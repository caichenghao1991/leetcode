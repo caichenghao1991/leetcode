{
 "cells": [
  {
   "attachments": {},
   "cell_type": "markdown",
   "id": "19f1ffed",
   "metadata": {
    "pycharm": {
     "name": "#%% md\n"
    }
   },
   "source": [
    "# 解题思路于技巧\n",
    "1. 如果之后步骤操作不影响之前操作得出的结果，且之后步骤操作获得的结果可以通过之前操作的结果推导出来。那么可以利用数组记录之前的结果，以\n",
    "    此避免重复计算之前步骤的结果。\n",
    "2. 仔细通过考虑操作前后什么发生改变，什么没变来转化等价问题。\n",
    "3. 对于数组问题，小心思考应该索引是否需要加1减1，可以通过最基础的情况或者区间内的影响个数来验证索引值。同时小心索引加1减1导致的索引越界。\n",
    "4. 处理看起来⽐较困难的问题，可以尝试化整为零，把⼀些简单的解法进⾏修改，解决困难的问题\n",
    "5. 处理复杂问题时可以细分成递进的小问题逐个击破。对于⼀些⽐较困难的问题，其解法并不是⼀蹴⽽就的，⽽是步步推进，螺旋上升的。\n",
    "6. 复杂的问题可以一步步画出来，帮助思考（脑子里东西多了容易忽略一些画出来显而易见的规律）。\n",
    "7. 但凡遇到需要递归的问题，最好都画出递归树，这对你分析算法的复杂度，寻找算法低效的原因 都有巨⼤帮助。\n",
    "8. 理论上，只要函数签名（参数，返回值）一样，就不需要额外辅助函数\n",
    "9. dfs 如果超时，可以加入memo 数组或者字典记录已访问过的值\n",
    "9. 变量较多时，务必注意变量名要定义的有意义，否则容易搞混。\n",
    "9. 做题时，除了题意本身，⼀定不要忽视题⽬给定的其他信息（数据范围可推测复杂度，合法取值区间；时间复杂度推测适合算法等）。\n",
    "10. 把⼤的问题细化到⼀个点，先研究在这 个⼩的点上如何解决问题，然后再通过递归/迭代的⽅式扩展到整个问题。\n",
    "10. 在笔试⾥肯定是很占便宜的，因为之前说了，我们要的是结果，没⼈在乎你是怎么得到结果的。(反转链表改成反转数组)。 对于返回 boolean 的\n",
    "    问题，直接先返回True 能对一半 case\n",
    "11. 代码分层应该算是⼀种⽐较好的习惯，可以增加写代码的速度和降低调试的难度。 简单说就是，不要把所有代码都写在 main 函数⾥⾯，我⼀直使\n",
    "    ⽤的套路是，main 函数负责接收数据，加⼀ 个 solution 函数负责统⼀处理数据和输出答案，然后再⽤诸如 backtrack 这样⼀个函数处理具\n",
    "    体的算法 逻辑。\n",
    "11. 考前应该尽可能多的看各种各样的题⽬，思考五分钟，想不出来解法的话直接看别⼈的答案。看懂思路就⾏了， 甚⾄⾃⼰写⼀遍都没必要。\n",
    "12. 没思路时，直接⽤回溯算法套路框架硬上，⼤不了加个备忘录，不就成动态规划套路框架了么，再⼤不了使用最原始暴⼒解，过 60% 的 case 也挺\n",
    "    OK 的。\n",
    "13. 全局nonmutable变量可以方法外定义，方法内使用 global 变量名。或者嵌套方法，外层方法内定义 self.变量名，内层方法调用 self.变量名。\n",
    "14. 复制粘贴一点要检查需要改的内容，不要遗漏。"
   ]
  },
  {
   "cell_type": "markdown",
   "id": "38e41a63",
   "metadata": {
    "pycharm": {
     "name": "#%% md\n"
    }
   },
   "source": [
    "# 数据结构\n",
    "    数据结构的基本存储方式只有数组（顺序存储）和链表（链式存储）\n",
    "    对于任何数据结构，基本操作都是遍历+访问（增删改查）。不同的数据结构存在的目的是高效地增删改查。\n",
    "    遍历+访问只有两种形式：线性(for/while迭代)和非线性（递归）\n",
    "    二叉树可以培养框架思维，很多算法本质上都是树的遍历。\n"
   ]
  },
  {
   "cell_type": "markdown",
   "id": "56324131",
   "metadata": {
    "pycharm": {
     "name": "#%% md\n"
    }
   },
   "source": [
    "# 算法\n",
    "    计算机算法（不同于数学算法），其本质就是无遗漏，冗余（递归，动态规划）；聪明的穷举（双指针，贪心，KMP，并查集...）。"
   ]
  },
  {
   "attachments": {},
   "cell_type": "markdown",
   "id": "d44fdd39",
   "metadata": {
    "pycharm": {
     "name": "#%% md\n"
    }
   },
   "source": [
    "# 数组\n",
    "    数组连续存储,可以通过索引随机访问 O(1)，节约存储空间。数组如果要扩容，需重新分配更⼤的空间，再复制数据 O(N)；插⼊和删除数据需搬移\n",
    "    后⾯的所有数据 O(N)。\n",
    "    Python 和 Java 多维数组/列表每个列表内存空间不连续（多条连续的地址空间组成）， C++ 连续（一条连续的地址空间组成）\n",
    "    区间的定义就是不变量，那么在循环中坚持根据查找区间的定义来做边界处理，就是循环不变量规则。（处理开闭区间要统一）\n",
    "    操作字符串多转化成 List，再 ''.join(list)。 因为字符串不能修改索引对应的值，没有 reverse， sort 方法。\n",
    "    对于原地处理数组问题，关键点在于元素和索引是成对⼉出现的，常⽤的⽅法是排序、异或、映射。可以多次浅层遍历预处理。\n",
    "    对于时间安排的问题，本质上讲就是区间调度问题，⼗有⼋九得排序，然后找规律来解决。"
   ]
  },
  {
   "attachments": {},
   "cell_type": "markdown",
   "id": "ee14cf44",
   "metadata": {
    "pycharm": {
     "name": "#%% md\n"
    }
   },
   "source": [
    "## 1. 双指针\n",
    "    可以快速的遍历数组，避免嵌套循环重复遍历。包括两端向中心的双指针（二分搜索），中心向两端的双指针（回文子串），同向双指针(原地修改数\n",
    "    组)，滑动窗口（满足单调性，注意何时扩大或缩小窗口）\n",
    "    二分搜索： 注意是哪种变形，不一定是 arr[mid] 和 target 比较，也可能是 arr[mid] 和 arr[mid+/-1] 比较\n",
    "        第一种写法，定义 target 是在一个在左闭右闭的区间里 [left, right]，while (left <= right)， 因为left == right是有意义的， right \n",
    "        初始 len(nums) - 1\n",
    "        第二种写法定义 target 是在一个在左闭右开的区间里，也就是[left, right) ，while (left < right)，因为left == right在区间[left, right)\n",
    "        是没有意义的，  right 初始 len(nums) \n",
    "    双指针两端向中间比中间向两端简单很多，优先考虑。\n",
    "    滑动窗口：什么时候应该移动 right 扩⼤窗⼝？窗⼝加⼊字符时，应该更新哪些数据？什么时候窗⼝应该暂停扩⼤，开始移动 left 缩⼩窗⼝？从\n",
    "    窗⼝移出字符时，应该更新哪些数据？我们要的结果应该在扩⼤窗⼝还是缩⼩窗⼝前或后更新？单凭移出和移⼊窗⼝的元素即可决定是否更新答案\n",
    "    滑动窗口最好用 while + index 相比 for 循环可以更好控制何时 index+1\n",
    "    leetcode: 167, 26, 27, 283, 344, 5, 83. 1, 281, 42, 658, 80, 82, 9\n",
    "        3, 438, 567, 76. 1004, 1438, 1658, 209, 219, 220, 395, 424, 713, 862\n",
    "        34, 704. 1201, 162, 240, 33, 35, 658, 74, 793, 81, 852\n",
    "        870. 206, 92"
   ]
  },
  {
   "cell_type": "code",
   "execution_count": 1,
   "id": "5c091c6f",
   "metadata": {
    "pycharm": {
     "name": "#%%\n"
    }
   },
   "outputs": [],
   "source": [
    "# 滑动窗口模板， * 处可变\n",
    "import sys\n",
    "def minWindow(s, t):  # 76 最小覆盖子串， s 为字符串，t 为样式字符子串 \n",
    "    need, window = {}, {}  # 需要字符（可能不需要）， 当前窗口字典\n",
    "    for c in t:\n",
    "        need[c] = 1 if c not in need else need[c] + 1\n",
    "    left, right = 0, 0\n",
    "    valid = 0    # 当前符合条件字符个数（可能不需要）\n",
    "    start, length = 0, sys.maxsize   # 记录最⼩覆盖⼦串的起始索引及⻓度\n",
    "    while right < len(s):\n",
    "        c = s[right] # c 是将移⼊窗⼝的字符\n",
    "        if c in need:\n",
    "            window[c] = 1 if c not in window else window[c] + 1\n",
    "        if window.get(c) == need.get(c) and window.get(c):\n",
    "            valid +=1\n",
    "        right += 1 # 扩⼤窗⼝        \n",
    "        while valid == len(need):  # *此处模版可变 判断左侧窗⼝是否要收缩, 条件可为其他\n",
    "            if right - left < length:  # *此处模版可变 在这⾥更新答案， 也可能要在缩小窗口后再更新答案\n",
    "                start, length = left, right - left;\n",
    "            d = s[left]   # d 是将移出窗⼝的字符       \n",
    "            if d in need:\n",
    "                if window.get(d) == need.get(d) and window.get(d):\n",
    "                    valid -= 1\n",
    "                window[d] = window[d] - 1\n",
    "            left += 1 # 缩⼩窗⼝   \n",
    "    return \"\" if length == sys.maxsize else s[start:start+length]   # *此处模版可变，返回不同结果"
   ]
  },
  {
   "cell_type": "code",
   "execution_count": 2,
   "id": "08350da4",
   "metadata": {
    "pycharm": {
     "name": "#%%\n"
    }
   },
   "outputs": [
    {
     "data": {
      "text/plain": [
       "'abac'"
      ]
     },
     "execution_count": 2,
     "metadata": {},
     "output_type": "execute_result"
    }
   ],
   "source": [
    "minWindow(\"aaabacaba\",\"aabc\")"
   ]
  },
  {
   "cell_type": "code",
   "execution_count": 4,
   "id": "b45e0e8d",
   "metadata": {
    "pycharm": {
     "name": "#%%\n"
    }
   },
   "outputs": [
    {
     "ename": "IndentationError",
     "evalue": "unindent does not match any outer indentation level (<tokenize>, line 19)",
     "output_type": "error",
     "traceback": [
      "\u001B[0;36m  File \u001B[0;32m<tokenize>:19\u001B[0;36m\u001B[0m\n\u001B[0;31m    def binary_search_first_greater(arr, value):  # 寻找第一个大于边界\u001B[0m\n\u001B[0m    ^\u001B[0m\n\u001B[0;31mIndentationError\u001B[0m\u001B[0;31m:\u001B[0m unindent does not match any outer indentation level\n"
     ]
    }
   ],
   "source": [
    "# 二分搜索\n",
    "def binary_search_first_occurrence(arr, value):  # 寻找多次出现左侧边界\n",
    "        left, right = 0, len(arr) - 1\n",
    "        res = -1\n",
    "\n",
    "        while left <= right:  # <= 才能覆盖搜索区间 left = right = len(arr)-1 的边界情况\n",
    "            mid = left + (right - left) // 2  # 防止 left + right 太大整型溢出\n",
    "            if arr[mid] > value:\n",
    "                right = mid - 1\n",
    "            elif arr[mid] < value:\n",
    "                left = mid + 1\n",
    "            else:\n",
    "                # res = mid  或者 return mid  寻找唯一出现\n",
    "                res = mid\n",
    "                right = mid - 1\n",
    "                    # left = mid + 1 寻找多次出现左侧边界\n",
    "        return res\n",
    "\n",
    "    def binary_search_first_greater(arr, value):  # 寻找第一个大于边界\n",
    "        left, right = 0, len(arr) - 1\n",
    "        res = -1\n",
    "\n",
    "        while left <= right:\n",
    "            mid = left + (right - left) // 2\n",
    "            if arr[mid] <= value:\n",
    "                # if arr[mid] < value:  #for first item greater or equal to target\n",
    "                left = mid + 1\n",
    "            else:\n",
    "                res = mid\n",
    "                right = mid - 1\n",
    "        return res\n"
   ]
  },
  {
   "cell_type": "markdown",
   "id": "81966eea",
   "metadata": {
    "pycharm": {
     "name": "#%% md\n"
    }
   },
   "source": [
    "## 2. 前缀和\n",
    "    可以快速频繁计算不变数组一个索引区间内的元素之和。\n",
    "    预先计算一个之前所有索引之和的preSum前缀数组，当需要求两个索引间的数之和时，从前缀数组中获取区间结束索引+1于区间起始索引对应的值之\n",
    "    差。注意preSum 数组第一个值为0。(空间换时间)\n",
    "    思路：避免重复遍历计算，利用数组记录遍历每一步的值。因为数组不变，所以对应的前缀数组每个索引的值可以根据之前索引的值获得。\n",
    "    例：数组A=[3,5,2,-2,4,1], preSum:[0,3,8,19,8,12,13], 求索引1到5之和。其结果为preSum[6]-preSum[1]    \n",
    "    leetcode: 303, 304. 1314, 1352, 238, 327, 437, 523, 525, 560, 724, 862, 918, 974·"
   ]
  },
  {
   "cell_type": "markdown",
   "id": "1be0fc72",
   "metadata": {
    "pycharm": {
     "name": "#%% md\n"
    }
   },
   "source": [
    "## 3. 差分数组\n",
    "    \n",
    "    可以快速获得频繁对原始数组的某个区间的元素进行增减后的结果数组。\n",
    "    先遍历数组中从第二个数字开始于前一个数字的差，获得差分数组diff（其第一个值为原数组第一个值）。每对区间改变一次，差分数组索引（对应区\n",
    "    间起始位置）的数字加上修改值，差分数组索引（对应区间结束位置索引+1）的数字减去修改值。最终依次累加索引值获得对应结果数组该索引的值。\n",
    "    思路：因为需要O(1),所以每步加减区间只能对始末索引做出修改，区间内索引值不变。而正好发现邻接的索引对应值于其前一位的值之差不变。所以\n",
    "    想到初始一个于前一位的差值数组。再修改差值数组对于区间起始，于区间结束+1的对应的值。\n",
    "    不变的是区间外不于区间邻接的索引对应值于其前一位的值之差以及区间内索引对应值于其前一位的值之差。变的是区间于区间外连接处的差值。\n",
    "    改变差分数组中区间对应索引的值依旧可以还原出结果，而不需要遍历区间内每个值。\n",
    "    例：数组A=[3,5,2,-2,4,1]，区间[1,4]加2，区间[3,5]减1。 diff=[3,2,-3,-4,6,-3], 加2: diff[1]+=2, diff[5]-=2; 减1: \n",
    "    diff[3]-=1, diff[6]+=1（注意6越界）; 获得diff=[3,4,-3,-5,6,-5],最终数组为[3,7,4,-1,5,0]\n",
    "    leetcode: 1094, 1109, 370. "
   ]
  },
  {
   "cell_type": "code",
   "execution_count": null,
   "id": "25723f71",
   "metadata": {
    "pycharm": {
     "name": "#%%\n"
    }
   },
   "outputs": [],
   "source": []
  },
  {
   "attachments": {},
   "cell_type": "markdown",
   "id": "4b98dd3e",
   "metadata": {
    "pycharm": {
     "name": "#%% md\n"
    }
   },
   "source": [
    "# 链表\n",
    "    链表元素不连续，靠指针指向下⼀个元素的位置，可以随意扩容；如果知道某⼀元素的前驱和后驱，删除或者插⼊新元素 O(1)。⽆法根据⼀个索引算\n",
    "    出对应元素的地址，不能随机访问 O(n)；会消耗更多的储存空间存储指针。\n",
    "    当新建链表时，虚拟头节点充当占位符可以避免处理头节点于之后节点不同所导致产生的额外代码， 常见于需要通过前一个节点做出当前节点判断的问\n",
    "    题。\n",
    "    有时可以使用一个 cur， cur.next 每次遍历 cur.next 替换 cur， pre 两个指针每次遍历 cur。注意末尾节点，判断会不会导致 None.val 报错\n",
    "    对于递归问题，不要跳进递归（你的脑袋能压⼏个栈呀？），⽽是要根据函数定义，来弄清楚这段代码会产⽣什么结果。只考虑当前节点经过哪些操作\n",
    "    才能返回函数的结果。\n",
    "    处理多个指针改变指向对象时，应该从后往前（先处理更多 next 的指针）\n",
    "    删除节点也可以是把它改成之后的节点\n",
    "    递归算法的时间复杂度：就是⼦问题个数乘以解决⼀个⼦问题需要的时间。"
   ]
  },
  {
   "cell_type": "markdown",
   "id": "5c85caad",
   "metadata": {
    "pycharm": {
     "name": "#%% md\n"
    }
   },
   "source": [
    "## 1. 双指针\n",
    "    应用：快慢指针，多指针处理多个链表\n",
    "    leetcode: 141, 142, 160, 19, 21, 23, 86, 876. 109, 1650, 1836, 234, 264, 313, 355, 360, 373, 378, 431, 88, 97, \n",
    "                    977"
   ]
  },
  {
   "attachments": {},
   "cell_type": "markdown",
   "id": "27d2a41a",
   "metadata": {
    "pycharm": {
     "name": "#%% md\n"
    }
   },
   "source": [
    "## 哈希表\n",
    "\n",
    "    当我们想使用哈希法来解决问题 (快速判断一个元素是否出现集合里) 的时候，有如下三种数据结构：List(数组)， set （集合），Dict(映射)\n",
    "    哈希函数：把数据映射为哈希表上的索引，然后就可以通过查询索引下标快速获得其值\n",
    "    哈希碰撞：同一个哈希索引存在多个数据，可以通过拉链法（将同一哈希索引内的数据用链表链接），或者线性探索法（将碰撞的数据放到相邻的空\n",
    "    的哈希值内，需要保证哈希值多于数据个数）解决碰撞。\n",
    "\n",
    "    List(数组)：处理少量可能的哈希值，性能优于映射。局限在于当元素很少，而哈希值太大会造成内存空间的浪费。\n",
    "    set （集合）：处理分散，跨度大，可能哈希值多的情况。局限在于只能存放 key，不能记录其他信息。\n",
    "    Dict(映射)：全能，当开销略大。"
   ]
  },
  {
   "attachments": {},
   "cell_type": "markdown",
   "id": "54679ebf",
   "metadata": {
    "pycharm": {
     "name": "#%% md\n"
    }
   },
   "source": [
    "# 队列栈\n",
    "    队列和栈是操作受限的数组和链表封装的数据结构。队列主要⽤在 BFS 算法，栈主要⽤在括号相关, 单调栈的问题\n",
    "    Python 通过 list(append, pop) 实现堆, collections 中 deque类 (append, popleft)实现队列和堆，增删性能比 List 栈好。\n",
    "    deque 方法: 所有 List 方法，增删支持左侧。不支持切片。底层由双向链表实现。\n",
    "    \n",
    "    单调队列: ⼀种队列结构，既能够维护队列元素先进先出的时间顺序，⼜能够正确维护队列中所有元素的最值。这个数据结构主要⽤来辅助解决滑动窗\n",
    "    ⼝相关的问题。元素从队列尾部进入，循环：如果队列不为空，且进入元素比之前队末元素大/小，则弹出队末元素。最后加入该元素索引至队末。这样队\n",
    "    首一定是最大元素的索引。出队时比较队首，如果满足队首索引满足指定条件弹出队首。\n",
    "    单调队列只能获得最大或最小值， 不能获得第 k 大的值。\n",
    "    单调队列灵活运用单调性，如果单调递增队列，遍历至索引 i，队尾索引对应的表值比索引 i 的值大， 那么当弹出索引为 j 时，索引 j 对应值一定比\n",
    "    索引区间 [j + 1, i) 内所有的值小，但比索引 i 的值大。\n",
    "    结束遍历是，如果需要处理队列中剩下元素，可以在原数组首尾添加一个极大/小值，来确保弹出所有元素，避免额外处理剩余元素逻辑代码\n",
    "    \n",
    "# 堆\n",
    "    优先级队列: 其实就是一个披着队列外衣的堆(具有队列的方法名)。\n",
    "    堆是一棵完全二叉树，树中每个结点的值都不小于（或不大于）其左右孩子的值。 如果父亲结点是大于等于左右孩子就是大顶堆，反之则为小顶堆。\n",
    "    Python 通过 heapq 实现小根堆。import heapq; pq = []; heapq.heappush(pq, (freq, x)); x = heapq.heappop(pq);  \n",
    "        heapq.heapify(pq) # 如果 pq 非空    heaq 对于每个数，或者元组/列表第一个数排列。\n",
    "    大根堆可以对原数组取负值， 前 k 大可以超过 k 个元素就 heappop\n",
    "    堆可以获得第 k 大的值，单调队列不可以。\n",
    "\n",
    "    leetcode: 1541, 20, 921. 32\n",
    "        496, 503, 739. 1019, 1944, 402, 42, 901, 918 \n",
    "        239. 1425, 1696, 862, 918."
   ]
  },
  {
   "attachments": {},
   "cell_type": "markdown",
   "id": "a21bacd6",
   "metadata": {
    "pycharm": {
     "name": "#%% md\n"
    }
   },
   "source": [
    "# 优先队列（Priority Queue）\n",
    "    可以通过数组，链表，堆，二叉搜索树来实现。添加和弹出最大（最小）元素的时间复杂度为O(logN)\n",
    "    "
   ]
  },
  {
   "cell_type": "markdown",
   "id": "1c134dde",
   "metadata": {
    "pycharm": {
     "name": "#%% md\n"
    }
   },
   "source": [
    "# 数据结构设计\n",
    "    使用复合数据结构（链表+Hash, 数组+Hash）。分析不同要求来排除一些数据结构可能性。操作时，必须不要忘记对每个分支数据结构进行操作。\n",
    "    1、如果想⾼效地，等概率地随机获取元素，就要使⽤数组作为底层容器。\n",
    "    2、如果要保持数组元素的紧凑性，可以把待删除元素换到最后，然后 pop 掉末尾的元素，这样时间复杂度就是 O(1) 了。当然，我们需要额外的哈\n",
    "    希表记录值到索引的映射。\n",
    "    leetcode: 143, 460, 380, 710, 295, 224, 227, 772."
   ]
  },
  {
   "cell_type": "code",
   "execution_count": null,
   "id": "60141d3a",
   "metadata": {
    "pycharm": {
     "name": "#%%\n"
    }
   },
   "outputs": [],
   "source": []
  },
  {
   "cell_type": "markdown",
   "id": "3ec7d54d",
   "metadata": {
    "pycharm": {
     "name": "#%% md\n"
    }
   },
   "source": [
    "# 树"
   ]
  },
  {
   "cell_type": "markdown",
   "id": "ad4d2e52",
   "metadata": {
    "pycharm": {
     "name": "#%% md\n"
    }
   },
   "source": [
    "## 二叉树"
   ]
  },
  {
   "attachments": {},
   "cell_type": "markdown",
   "id": "7e5261d6",
   "metadata": {
    "pycharm": {
     "name": "#%% md\n"
    }
   },
   "source": [
    "\n",
    "**树遍历框架**\n",
    "\n",
    "    def traverse(root: TreeNode):\n",
    "        if not root: return           # 所有dfs遍历必须 not root 的 base case\n",
    "        # 前序位置 （通过遍树历得出答案，回溯算法框架，配合全局变量和全局结果。在进入节点前对全局变量的操作，以及后序位置回溯反向操作。\n",
    "        考虑何时可能对于全局结果进行更新（可以放在前中后序离开节点前），方法通常使用全局变量和辅助函数而非递归方法的返回值）\n",
    "        traverse(root.left)\n",
    "        # 中序位置 （二叉树排序）\n",
    "        traverse(root.right)\n",
    "        # 后序位置 （通过分解（子问题的答案）得出答案，动态规划框架（添加额外备忘录），分治算法（减枝），方法通常有返回值）\n",
    "        \n",
    "        # 多叉树前序位置\n",
    "        for child in root.children\n",
    "            traverse(child)\n",
    "        # 多叉树后序位置\n",
    "\n",
    "\n",
    "    # 中序遍历迭代\n",
    "    def inorder_traversal(root):\n",
    "        res, st = [], []    # 注意初始栈为空\n",
    "        curr = root\n",
    "        while st or curr:  # 注意需要指针不为空\n",
    "            if curr:\n",
    "                st.append(curr)\n",
    "                curr = curr.left\n",
    "            else:\n",
    "                n = st.pop()\n",
    "                res.append(n.val)  # 中序位置 \n",
    "                curr = n.right\n",
    "        return res\n",
    "    # [0]前序遍历迭代    [1] 后序遍历\n",
    "    def preorder_traversal(root):\n",
    "        res, st = [], deque([root])   # 注意初始栈不为空\n",
    "        while st:\n",
    "            n = st.pop()\n",
    "            if n:                     # 选择先加入后验证，也可以先验证后加入\n",
    "                res.append(n.val)\n",
    "                [0]st.append(n.right)\n",
    "                [0]st.append(n.left)               \n",
    "                [1]st.append(n.left)\n",
    "                [1]st.append(n.right)\n",
    "        [0]return res\n",
    "        [1]return res[::-1]\n"
   ]
  },
  {
   "attachments": {},
   "cell_type": "markdown",
   "id": "e6d9211d",
   "metadata": {
    "pycharm": {
     "name": "#%% md\n"
    }
   },
   "source": [
    "    递归函数是否需要返回值：如果需要搜索整棵二叉树（而非一条符合条件的路径）且不用处理递归返回值，递归函数就不要返回值。其他需要返回值。\n",
    "\n",
    "\n",
    "    所谓前序位置，就是刚进⼊⼀个节点（元素）的时候，后序位置就是即将离开⼀个节点（元素）的时候，中序位置的代码在⼀个⼆叉树节点左⼦树都\n",
    "    遍历完，即将开始遍历右⼦树的时候执⾏。前中后序是遍历⼆叉树过程中处理每⼀个节点的三个特殊时间点\n",
    "    \n",
    "    如果单独抽出⼀个⼆叉树节点，它需要做什么事情？需要在什么时候（前/中/后序位置）做？其他的节点不⽤你操⼼\n",
    "    前序位置的代码只能从函数参数中获取⽗节点传递来的数据，⽽后序位置的代码不仅可以获取参数数据，还可以获取到⼦树通过函数返回值传递回来的\n",
    "    数据。当发现题⽬和⼦树有关，那⼤概率要给函数设置合理的定义和返回值，在后序位置写代码了。\n",
    "    这种「分解问题」的思路，核⼼在于你要给递归函数⼀个合适的定义，然后⽤函数的定义来解释你的代码；如果你的逻辑成功⾃恰，那么说明你这个\n",
    "    算法是正确的。\n",
    "    可以通过后序遍历定义函数的返回值来避免前序遍历递归嵌套递归辅助函数，减小时间复杂度。如果当前节点要做的事情需要通过左右⼦树的计算结果\n",
    "    推导出来，就要⽤到后序遍历\n",
    "    \n",
    "    层序遍历属于迭代遍历(使用队列), while 循环和 for 循环分管从上到下和从左到右的遍历。题⽬不需要记录层数（步数）时可以去掉上述框架中\n",
    "    的 for 循环。\n",
    "    层序遍历也可以通过前序遍历和函数中depth参数区分层数实现 traverse(root, depth)（不推荐，本质还是dfs遍历，没有bfs\n",
    "    最短路径的优化）。\n",
    "    还可以通过当前层节点列表作为参数，前序(获得下一层节点)遍历traverse(root, curr_level_nodes)来实现，类似bfs，推荐。\n",
    "    \n",
    "    需要处理左子节点的右孩子于右子节点的左子节点之间关系时，可以把这两个节点也看做一个整体，使用 traverse(left_node, right_node) \n",
    "    来整合所有的两个节点的整体]\n",
    "\n",
    "    叶子节点的结束条件是： not root.left and not root.right， 而不是 not root\n",
    "    \n",
    "    构造二叉树问题⼀般都是使⽤「分解问题」的思路：构造整棵树 = 根节点 + 构造左⼦树 + 构造右⼦树。先找出根节点，然后根据根节点的值找到\n",
    "    左右⼦树的元素，进⽽递归构建出左右⼦树。\n",
    "    \n",
    "    所有递归的算法，你甭管它是⼲什么的，本质上都是在遍历⼀棵（递归）树，然后在节点（前中后序位置）上执⾏代码，你要写递归算法，本质上就\n",
    "    是要告诉每个节点需要做什么。\n",
    "    \n",
    "    可以通过递归函数返回 True 来减枝，一旦找到就不断跳出返回上层。if traverse(root): return True\n",
    "\n",
    "    迭代遍历树使用栈，每次入栈时，可以使用元组代替单个节点，以传递额外数据（路径等信息）。\n",
    "\n",
    "    当同时需要子节点信息和父节点信息时， 可以后序遍历通过判断返回的状态值进行处理。\n",
    "    \n",
    "    leetcode: 104, 144, 543. 1008, 1022, 1026, 1080, 110, 1110, 1120, 113, 114, 116, 124, 1261, 129, 1315, 1325,\n",
    "                    1339, 1367, 1372, 1373, 1379, 1430, 1448, 145, 1457, 1469, 1485, 1490, 1602, 1612, 2049, 226, \n",
    "                    250, 257, 270, 298, 333, 366, 404, 426, 501, 508, 513, 515, 530, 538, 549, 559, 563, 572, 606, \n",
    "                    617, 623, 654, 663, 666, 669, 671, 687, 776, 865, 894, 897, 938, 951, 965, 968, 971, 979, 987,\n",
    "                    988, 993, 998.\n",
    "            114, 116, 226. \n",
    "            105, 106, 654, 889. 1008.\n",
    "            297.\n",
    "            315, 327, 493, 912.\n",
    "            1038, 230, 538.\n",
    "            95, 96.\n",
    "            1373.\n",
    "            215, 912."
   ]
  },
  {
   "cell_type": "code",
   "execution_count": null,
   "id": "df2f268b",
   "metadata": {
    "pycharm": {
     "name": "#%%\n"
    }
   },
   "outputs": [],
   "source": [
    "# 104. Maximum Depth of Binary Tree    前序回溯遍历\n",
    "class Solution:   \n",
    "    def maxDepth(self, root: Optional[TreeNode]) -> int:\n",
    "        res, depth = 0,0\n",
    "        def traverse(root:TreeNode):  # 通常需要辅助函数因为返回值不同， 辅助函数还可以传递额外参数获得更多信息\n",
    "            nonlocal res\n",
    "            nonlocal depth\n",
    "            if not root:\n",
    "                return\n",
    "            depth += 1  # 进入节点时需要进行的更新\n",
    "            if not root.left and not root.right:   # 这部分更新结果还可以放在中序和后序 depth 回溯前\n",
    "                res = max(depth, res)\n",
    "            traverse(root.left)\n",
    "            traverse(root.right)\n",
    "            depth -= 1   # 离开节点前回溯\n",
    "            \n",
    "        traverse(root)\n",
    "        return res"
   ]
  },
  {
   "cell_type": "code",
   "execution_count": null,
   "id": "27a4dded",
   "metadata": {
    "pycharm": {
     "name": "#%%\n"
    }
   },
   "outputs": [],
   "source": [
    "# 104. Maximum Depth of Binary Tree   后序分治，可以省去外部变量和辅助函数\n",
    "class Solution:   \n",
    "    def maxDepth(self, root: Optional[TreeNode]) -> int:                \n",
    "        if not root:\n",
    "            return 0          \n",
    "        left_depth = self.maxDepth(root.left)\n",
    "        right_depth = self.maxDepth(root.right)       \n",
    "        return max(left_depth, right_depth) + 1     "
   ]
  },
  {
   "cell_type": "code",
   "execution_count": null,
   "id": "22558275",
   "metadata": {
    "pycharm": {
     "name": "#%%\n"
    }
   },
   "outputs": [],
   "source": [
    "# 102. Binary Tree Level Order Traversal        层序遍历 BFS\n",
    "class Solution:\n",
    "    def levelOrder(self, root: Optional[TreeNode]) -> List[List[int]]:\n",
    "        res = []\n",
    "        if not root:\n",
    "            return res\n",
    "        q = deque()\n",
    "        q.append(root)\n",
    "        while len(q):\n",
    "            size = len(q)\n",
    "            level = []\n",
    "            for i in range(size):\n",
    "                node = q.popleft()\n",
    "                level.append(node.val)\n",
    "                if node.left:\n",
    "                    q.append(node.left)\n",
    "                if node.right:\n",
    "                    q.append(node.right)\n",
    "            res.append(level)\n",
    "            level = []\n",
    "        return res"
   ]
  },
  {
   "attachments": {},
   "cell_type": "markdown",
   "id": "e5a041b9",
   "metadata": {
    "pycharm": {
     "name": "#%% md\n"
    }
   },
   "source": [
    "## ⼆叉搜索树（Binary Search Tree）\n",
    "    BST 的特性：对于每⼀个节点 n，左⼦树节点的值都⽐ n 的值要⼩，右⼦树节点的值都⽐ n 的值⼤。n 的左侧⼦树和右侧⼦树都是 BST。BST 的\n",
    "    中序遍历结果是有序的（升序，很多题利用中序遍历解决）。先右子树，再根节点，再左子树遍历结果是降序。\n",
    "    \n",
    "    定义树节点可以多记录以该节点为根节点的树的节点个数，以此实现 logN 获取第 n 大的节点。\n",
    "    二叉搜索树如果需要当前节点父节点，大多使用后序遍历，更方便建立左右子树链接。\n",
    "    二叉搜索树新增节点：比较新增值与当前节点值，小则进入左子树，大则右子树，直到当前节点为空，附上新增值。\n",
    "    二叉搜索树删除节点：比较删除值与当前节点值，小则递归进入左子树，大则递归右子树。等于时，如果当前节点只有一棵子树返回该子树，否则找到\n",
    "        右子树最左侧节点，将该节点的左子树复制为当前节点的左子树，返回当前节点的右子树节点。\n",
    "    \n",
    "    leetcode: 1038, 230, 538.\n",
    "        450, 700, 701, 98."
   ]
  },
  {
   "cell_type": "markdown",
   "id": "c2c494dd",
   "metadata": {
    "pycharm": {
     "name": "#%% md\n"
    }
   },
   "source": [
    "## 递归算法debug\n",
    "    \n",
    "    直接在递归函数内部打印关键值，配合缩进，直观地观察递归函数执⾏情况。在递归函数的开头，调⽤ printIndent(count++) 并打印关键变\n",
    "    量；然后在所有 return 语句之前调⽤printIndent(--count) 并打印返回值。\n",
    "    这样可以⽐较直观地看出递归过程，你有没有发现这就是⼀棵递归树，每次缩进都是一棵子树。\n",
    "    \n",
    "    count = 0\n",
    "    def print_indent_msg(n,msg):\n",
    "        print(\"  \" * n+msg)\n",
    "\n",
    "    def fib(i, k):\n",
    "        global count\n",
    "        print_indent_msg(count, 'i={}'.format(i))\n",
    "        count += 1\n",
    "\n",
    "        if k == 0 or k == 1:\n",
    "            count -= 1\n",
    "            print_indent_msg(count, f'return base {k}')\n",
    "            return k\n",
    "\n",
    "        res = fib(i - 1, k - 1) + fib(i - 2, k - 2)\n",
    "        count -= 1\n",
    "        print_indent_msg(count, f'return {res}')\n",
    "        return res\n",
    "    \n",
    "    fib(3, 3)\n",
    "    \n",
    "    \n",
    "    # 输出\n",
    "    i=3\n",
    "       i=2\n",
    "          i=1\n",
    "          return base 1\n",
    "          i=0\n",
    "          return base 0\n",
    "       return 1\n",
    "       i=1\n",
    "       return base 1\n",
    "    return 2"
   ]
  },
  {
   "cell_type": "markdown",
   "id": "c2765ecb",
   "metadata": {
    "pycharm": {
     "name": "#%% md\n"
    }
   },
   "source": [
    "## 图论\n",
    "    本质上图可以认为是多叉树的延伸。通常使用邻接表和邻接矩阵来实现。\n",
    "    邻接表很直观，我把每个节点 x 的邻居都存到⼀个列表⾥，然后把 x 和这个列表关联起来，这样就可以通过⼀个节点 x 找到它的所有相邻节点。\n",
    "    邻接矩阵则是⼀个⼆维布尔数组，我们权且称为 matrix，如果节点 x 和 y 是相连的，那么就把 matrix[x][y] 设为 true（上图中绿⾊的⽅\n",
    "    格代表 true）。如果想找节点 x 的邻居，去扫⼀圈 matrix[x][..] 就⾏了。\n",
    "    对于邻接表，好处是占⽤的空间少。但是，邻接表⽆法快速判断两个节点是否相邻。\n",
    "    度（degree）: 在⽆向图中，「度」就是每个节点相连的边的条数。有向图中每个节点「度」被细分为⼊度（indegree）和出度（outdegree）\n",
    "    图中，「⽆向」等同于「双向」\n",
    "    \n",
    "    图没有中序遍历。图和多叉树最⼤的区别是，图是可能包含环的，你从图的某⼀个节点开始遍历，有可能⾛了⼀圈⼜回到这个节点，⽽树不会出现这\n",
    "    种情况，从某个节点出发必然⾛到叶⼦节点，绝不可能回到它⾃身。所以，如果图包含环，遍历框架就要⼀个 visited 数组进⾏辅助\n",
    "    "
   ]
  },
  {
   "cell_type": "markdown",
   "id": "a2e0e4a1",
   "metadata": {
    "pycharm": {
     "name": "#%% md\n"
    }
   },
   "source": [
    "<div>\n",
    "<img src=\"img/graph_presentation.png\" width=\"800\"/>\n",
    "</div>"
   ]
  },
  {
   "cell_type": "markdown",
   "id": "5f94cb76",
   "metadata": {
    "pycharm": {
     "name": "#%% md\n"
    }
   },
   "source": [
    "**图遍历 DFS 框架**\n",
    "\n",
    "    visited = [False] * size\n",
    "    def traverse(graph: Graph, node: TreeNode):\n",
    "        if visited[node]: return    # 防⽌⾛回头路进⼊死循环，习惯把 return 语句都放在函数开头作为 base case\n",
    "        visited[node] = True      # 前序遍历位置，标记节点 v 已访问\n",
    "        if graph[node]:\n",
    "            for neighbor in graph[node]:\n",
    "                # if not visited[neighbor]:   # 进入前检查， 可代替开头 if visited[node]: return（进入后检查）\n",
    "                traverse(graph, neighbor) \n",
    "        "
   ]
  },
  {
   "cell_type": "markdown",
   "id": "04300933",
   "metadata": {
    "pycharm": {
     "name": "#%% md\n"
    }
   },
   "source": [
    "**图遍历，检测环，拓扑排序(DFS)框架**\n",
    "\n",
    "    def findOrder(self, numCourses: int, prerequisites: List[List[int]]) -> List[int]:       \n",
    "        # 构建图\n",
    "        graph = {i: [] for i in range(numCourses)}    \n",
    "        for course, prerequisite in prerequisites:\n",
    "            graph[prerequisite].append(course)       # 箭头⽅向是「被依赖」关系 （from-->to）\n",
    "            # graph[course].append(prerequisite)     # 箭头⽅向是「依赖」关系 （to-->from ）\n",
    "            \n",
    "        post_order = []                # 对于依赖关系， 后序遍历就是拓扑排序。 对于「被依赖」关系，后序遍历需要反转\n",
    "        visited = [False] * numCourses        # 列表记录被遍历过的节点\n",
    "        current_path = [False] * numCourses   # 记录从起点到当前节点的路径（经过的节点）\n",
    "        has_cycle = False                     # # 检查是否有环\n",
    "       \n",
    "        def dfs(graph, cur):\n",
    "            nonlocal has_cycle\n",
    "            if current_path[cur]:             # 路径上 cur 已经被访问过（存在环）\n",
    "                has_cycle = True\n",
    "                return\n",
    "            if visited[cur]: return\n",
    "            visited[cur] = True               # 经过节点 cur，标记为已遍历  \n",
    "            current_path[cur] = True          # 标记节点 cur 在路径上\n",
    "            if graph[cur]:\n",
    "                for parent in graph[cur]:\n",
    "                    dfs(graph, parent)\n",
    "            post_order.append(cur)            # 更新后序遍历\n",
    "            current_path[cur] = False         # 节点 cur 离开路径 \n",
    "                # 与回溯不同的是，回溯会在 for 循环内进行标记和撤销。因为回溯关注当前节点到相邻节点间的路径，而 dfs 关注当前节点\n",
    "                # 对于这⾥「图」的遍历，应该⽤ DFS 算法，把 onPath 的操作放到 for 循环外⾯，否则会漏掉记录起始点的遍历。\n",
    "                # 类⽐贪吃蛇游戏，visited 记录蛇经过过的格⼦，⽽ onPath 仅仅记录蛇身。在图的遍历过程中，onPath ⽤于处理是否存\n",
    "                # 在环（节点索引出现True）和路径相关的问题。visited 数组防⽌递归重复遍历同⼀个节点(⾛回头路)进⼊死循环的。\n",
    "        for course in range(numCourses):\n",
    "            # 如果图中并不是所有节点都相连，要⽤⼀个 for 循环将所有节点都作为起点调⽤⼀次 DFS 搜索算法。\n",
    "            dfs(graph, course)\n",
    "            if has_cycle: return []\n",
    "            \n",
    "        return post_order[::-1]               # 对于依赖关系， DFS 后序遍历的结果就是拓扑排序。被依赖关系需要对后序反转\n",
    "                   "
   ]
  },
  {
   "cell_type": "markdown",
   "id": "3c0725da",
   "metadata": {
    "pycharm": {
     "name": "#%% md\n"
    }
   },
   "source": [
    "**图遍历，检测环，拓扑排序(BFS)框架**\n",
    "\n",
    "    def findOrder(self, numCourses: int, prerequisites: List[List[int]]) -> List[int]:\n",
    "        # BFS 用deque\n",
    "        from collections import deque\n",
    "        q = deque()\n",
    "        result = []\n",
    "        inDegree = [0] * numCourses               # 构建⼊度数组，BFS 算法其实是通过 indegree 数组实现的 visited 数组的作                                                       # ⽤，只有⼊度为 0 的节点才能⼊队，从⽽保证不会出现死循环。\n",
    "        # 建图有向边代表「被依赖」关系\n",
    "        graph = collections.defaultdict(list)     # defaultdict 对于所有键，默认值都是[](空列表，也可以设置其他值)\n",
    "        \n",
    "        for nodeTo, nodeFrom in prerequisites:\n",
    "            inDegree[nodeTo] += 1                 # 对于 To 节点入度加1\n",
    "            graph[nodeFrom].append(nodeTo)\n",
    "       \n",
    "        for node in range(numCourses):\n",
    "            if not inDegree[node]:\n",
    "                q.append(node)                    # ⼊度为 0 的节点，是没有依赖的节点，可以作为拓扑排序的起点，加⼊队列         \n",
    "        \n",
    "        count = 0                                 # 访问过的节点个数\n",
    "        while q:\n",
    "            node = q.pop()                        # 弹出节点，并将它指向的节点的⼊度减⼀           \n",
    "            result[count] = node\n",
    "            count += 1\n",
    "            for next in graph[node]:\n",
    "                inDegree[next] -= 1\n",
    "                if not inDegree[next]:            # 如果⼊度变为 0，说明 next 依赖的节点都已被遍历\n",
    "                    q.append(next)\n",
    "        if count != numCourses: return []         # 如果所有节点都被遍历过，说明不成环。如果有环则小于                         \n",
    "        return result                             # 对于「被依赖」关系，节点的遍历顺序就是拓扑排序的结果。\n",
    "        "
   ]
  },
  {
   "attachments": {},
   "cell_type": "markdown",
   "id": "73aa55c8",
   "metadata": {
    "pycharm": {
     "name": "#%% md\n"
    }
   },
   "source": [
    "## ⼆分图： \n",
    "\n",
    "    ⼆分图是一张图，满足图的顶点集可分割为两个⼦集，满足子集内不存在连接两子集内顶点的边，图中每条边依附的两个顶点都分属于这两个⼦集。\n",
    "    应用于快速通过类 A 查询对应（关联）的类 B 的值，以及通过类 B 查询对应的类 A 的值。其中每个类 A 节点相邻的都是类 B 节点， 每个\n",
    "    类 B 节点相邻的都是类 A 节点。否则需要两个哈希表完成两个类之间的互相检索。\n",
    "     \n",
    "    检测是否是二分图：\n",
    "        DFS 方法：\n",
    "        新建颜色，访问布尔数组。对于所有未被访问过的节点 a ∈ A（因为图不⼀定是联通的，可能存在多个⼦图）执行 dfs(a) 函数：\n",
    "        dfs 函数：1. 更新 a 为已访问 2. 对于 a 节点的所有相邻节点 b ∈ B：i. 如果 b 没访问过，标记节点 b 为与 a 不同的颜色。\n",
    "            执行 dfs(b)。 ii. 如果 b 访问过: 检查如果节点 a 于 b 颜色相同，则不是二分图（更新全局是否二分图变量）\n",
    "        \n",
    "        BFS 方法：只需对 dfs 函数进行变形，套用 BFS 框架，新建队列，节点 a 入队。直到队列为空，循环：移出队列中最早节点 c，对于需要\n",
    "            入队的 c 的相邻节点进行是否访问过于 dfs 相同的判断更新逻辑。\n",
    "            \n",
    " ## 动态联通性\n",
    "     \n",
    "    动态连通性其实可以抽象成给⼀幅图连线。连通是⼀种等价关系，具有⾃反性，对称性，传递性。\n",
    "    Union-Find 算法，也就是常说的并查集（Disjoint Set）结构，主要是解决图论中「动态连通性」问题的。Union-Find 算法主要需要实现\n",
    "        两个 API：将节点 p 和节点 q 连接，判断节点 p 和节点 q 是否连通，返回图中有多少个连通分量。\n",
    "        \n",
    "        [1]平衡树优化 [2]常数树高优化\n",
    "        class UnionFind:\n",
    "            def __init__(self, n):          \n",
    "                self.count = n                             # count 为连通分量, n 为图的节点总数\n",
    "                self.parent = [i for i in range(count)]    # ⽗节点指针初始指向⾃⼰\n",
    "                [1]self.rank = [1] * n                        # 以  i 为根节点的树的节点的个数\n",
    "            def union(self, p, q):\n",
    "                root_p = self.find(p)\n",
    "                root_q = self.find(q)\n",
    "                if root_p == root_q: return\n",
    "                if self.rank[root_p] > self.rank[root_q]:  # 为了满足树的平衡，将节点数小的根节点的父节点设为节点数大的根节点\n",
    "                    self.parent[root_q] = root_p \n",
    "                    self.rank[root_p] += self.rank[root_q] # 更新节点数大的根节点的节点个数\n",
    "                else:   \n",
    "                    self.parent[root_p] = root_q           # 将两棵树合并为⼀棵， 将节点 p 的父节点的父节点设置为 q 的父节点\n",
    "                    self.rank[root_q] += self.rank[root_p]\n",
    "                self.count -= 1                            # 两个分量合⼆为⼀\n",
    "             \n",
    "            # 当find 压缩时不需要比较节点个数\n",
    "            def union(self, p, q):\n",
    "                root_p = self.find(p)\n",
    "                root_q = self.find(q)\n",
    "                if root_p == root_q: return\n",
    "                self.parent[root_q] = root_p \n",
    "                self.count -= 1 \n",
    "            def find(self, x):                             # 返回 x 的根节点\n",
    "                [1]while parent[x] != x:                      # 根节点的 parent[x] == x\n",
    "                    [1]x = parent[x]                        # 优化前\n",
    "                    [1]return x                      \n",
    "                [2]if parent[x] !=x\n",
    "                    [2]parent[x] = find(parent[x])            # 优化后，进一步压缩树高度到2\n",
    "                [2]return parent[x]\n",
    "                \n",
    "            def connected(self, p, q):\n",
    "                return self.find(p) == self.find(q)\n",
    "        当树不平衡时，find, union, connected 的时间复杂度都是 O(N)，\n",
    "        ⽤ size 数组的平衡优化，经过比较节点个数，取大的根节点为合并两者的根节点的操作，使得合并后的树平衡，时间复杂度 O(logN) \n",
    "        或者 在 find 路径压缩，使树高度为 2（每个节点只记录其根节点，不记录中间的父节点），不⽤ size 数组的平衡优化，时间复杂度 O(1)\n",
    "         \n",
    "        UnionFind 主要思路是适时添加虚拟（Dummy）节点，想办法让元素「分⻔别类」，建⽴动态连通关系。\n",
    "         \n",
    "         \n",
    "## 最⼩⽣成树算法 \n",
    "    \n",
    "    最⼩⽣成树算法主要有 Prim 算法（普⾥姆算法）和 Kruskal 算法两种, 都运⽤了贪⼼思想。时间复杂度都是 O(ElogE)  E: 边数 \n",
    "    ⽣成树是含有图中所有顶点的「⽆环连通⼦图」（不需要含有所有边）。「最⼩⽣成树」：对于加权图所有可能的⽣成树中，权重和最⼩的⽣成树。\n",
    "    ⼀般来说，都是在⽆向加权图中计算最⼩⽣成树的，所以图的边权重⼀般代表成本、距离这样的标量。\n",
    "     \n",
    "    Kruskal 算法：\n",
    "        初始所有边为未选，对所有边按权重排序。不断从所有未被选择的边中挑出最小（若有多个随便哪条都可以）且满足不与已选出边\n",
    "        组成环的边（UnionFind方法实现）加入已选边集合，直到已选边集合有 节点数-1 条边。\n",
    "     \n",
    "    # graph 是⽤邻接表表示的⼀幅图，graph[s] 记录节点 s 相邻的边，三元组 int[][from, to, weight] 表示⼀条边\n",
    "    def Kruskal(self):                                              # graph: List[List] \n",
    "        result = []                                                 # 选择出的最小生成树边的列表\n",
    "        cnt = 0                                                     # 已选边个数  一共需要选择 self.V - 1 条边\n",
    "        uf = UnionFind(self.V)                                      # self.V 节点数， 构造之前的 UnionFind       \n",
    "        for u, v, w in  sorted(self.graph, key=lambda item: item[2])   # 对所有边按权重排序， # 提取未遍历的最小权重边                           \n",
    "            if not uf.connected(u, v):                              # 如果起点，终点未连通\n",
    "                result.append([u, v, w])\n",
    "                uf.union(u, v)                                      # 连通起点，终点到同一根节点\n",
    "                cnt += 1\n",
    "        if cnt > self.V: break                                      # 获得节点数-1条边\n",
    "        return result if uf.count==1                                # 要保证最后只形成了一棵树，即只有一个连通分量\n",
    " \n",
    "\n",
    "    Prim 算法：\n",
    "        「切分」就是将⼀幅图分为两个不重叠且⾮空的节点集合。红⾊的这⼀⼑把图中的节点分成了两个集合，就是⼀种「切分」cut，其中被红线切中\n",
    "        的的边（标记为蓝⾊）叫做「横切边」。「切分定理」：对于任意⼀种「切分」，其中权重最⼩的那条「横切边」⼀定是构成最⼩⽣成树的⼀条\n",
    "        边。cut({A, B, C}) = cut({A, B}) ∪ cut ({C})  对 A, B, C 切分的横切边 与 对 A, B 切分的横切边并集对 C 切分的横切边\n",
    "        相等。Prim 每次切分都能找到最⼩⽣成树的⼀条边（新加入节点与未被访问相邻节点边中权重最小的边），然后⼜以新加入节点进⾏新⼀轮切\n",
    "        分，直到找到最⼩⽣成树的所有边为⽌。\n",
    "        graph: {start:[[weight1,stop1],[weight2,stop2]]} \n",
    "\n",
    "        import heapq\n",
    "\n",
    "        def prim(self):\n",
    "        manhattan = lambda p1, p2: abs(p1[0]-p2[0]) + abs(p1[1]-p2[1])\n",
    "        n, graph = len(points), defaultdict(list)\n",
    "        for i in range(n):\n",
    "            for j in range(i+1, n):\n",
    "                d = manhattan(points[i], points[j])\n",
    "                graph[i].append((d, i, j))\n",
    "                graph[j].append((d, i, j))\n",
    "        cnt, visited = 1, [False] * n                                     # n 节点数，遍历节点数，已访问数组 \n",
    "        ans, [],                                                          # 选择出的最小生成树边的列表\n",
    "        heap =c[0]                                                        \n",
    "        visited[0] = 1\n",
    "        heapq.heapify(heap)                                               # heapify 第一个节点的所有边按权重排序\n",
    "        while heap:\n",
    "            d, i, j = heapq.heappop(heap)                                 # 取出权重最小的边\n",
    "            if not visited[j]:                                            # 如果终点未被访问， 先放入队列后检测\n",
    "                visited[j], cnt = True, cnt+1\n",
    "                ans.append((i,j,d))\n",
    "                for nei in graph[j]: \n",
    "                    heapq.heappush(heap, nei)\n",
    "            if cnt >= n: break                                            # 已找到 节点数 - 1 条边\n",
    "        return ans if all(visited) else []                                # 如果所有节点被访问过则存在最小生成树  \n",
    "                           \n",
    "\n"
   ]
  },
  {
   "cell_type": "markdown",
   "id": "06289039",
   "metadata": {
    "pycharm": {
     "name": "#%% md\n"
    }
   },
   "source": [
    "<div>\n",
    "<img src=\"img/graph_cut.png\" width=\"600\"/>\n",
    "</div>"
   ]
  },
  {
   "cell_type": "code",
   "execution_count": null,
   "id": "d5bd2bcf",
   "metadata": {
    "pycharm": {
     "name": "#%%\n"
    }
   },
   "outputs": [],
   "source": [
    "    Dijkstra 算法：\n",
    "        Dijkstra 可以理解成⼀个带 dp table（或者说备忘录）的 BFS 算法。visited 已访问的节点列表可以省略或者保留，因为即使⼀个节点会\n",
    "        被访问多次，也不可能⽆限减⼩下去。使⽤优先级队列，主要是为了效率上的优化，类似⼀种贪⼼算法的思路。\n",
    "        优先队列中初始起点 s，不断取出离起点距离最近的节点 a，如果该节点 a 到其邻居 b 的距离 dist(a,b) + dist(s,a) < dist(s,b)，\n",
    "        更新起点到 b 距离， 将 b 放入队列。dist 函数比较可以使用 max(a,b), a*b 等，不一定取最小，可以拓展到最优，无向图。 \n",
    "        时间复杂 度就是 O(ElogV)  E: 边数  V: 节点\n",
    "    \n",
    "    import heapq\n",
    "    def dijkstra(self, edges: List[List[int]], s: int):           # s 为起点\n",
    "        graph = collections.defaultdict(dict)                     # 构造合适结构{'from': [['to1':'cost1'],['to2':'cost2']] } \n",
    "        for frm,to,cost in times:\n",
    "            graph[frm].append([cost,to])\n",
    "        \n",
    "        distances = { i: float(\"inf\") for i in range(len(graph))}  # 记录最短路径的权重，可以理解为 dp table\n",
    "        distances[s] = 0                                           # dist[i] 的值就是节点 start 到节点 i 的最短路径权重\n",
    "        pq = [(0, s)]                                              # 优先队列记录（节点到起点距离，节点索引）\n",
    "\n",
    "        while pq:          \n",
    "            cur_dist, cur = heapq.heappop(min_dist)\n",
    "            # if cur == end: return cur_dist                       # 如果只需求到 end节点最短距离权重，可以提取退出       \n",
    "            if cur_dist > distances[cur] : continue                # 已经有⼀条更短的路径到达 cur 节点了\n",
    "            for w2, neighbor in graph[cur]:                            # 将 cur 的相邻节点装⼊队列\n",
    "                new_dist = distances[cur] + w2  \n",
    "                if new_dist  < distances[neighbor]:               # 查看从 cur 达到 neighbor 的距离是否会更短\n",
    "                    distances[neighbor] = new_dist                # 更新 dp table\n",
    "                    heapq.heappush(pq, (new_dist, neighbor))      # 将这个节点以及距离放⼊队列\n",
    "\n",
    "        return distances                                           # 如果 distances 有 float(\"inf\") 说明不连通\n",
    "    \n",
    "    leetcode: 797. 133, 200, 2049\n",
    "            207, 210.\n",
    "            785, 886.\n",
    "            130, 323, 990.\n",
    "            1135, 1584, 261.\n",
    "            1135, 1584.\n",
    "            1514, 1613, 743."
   ]
  },
  {
   "attachments": {},
   "cell_type": "markdown",
   "id": "7d0d76d6",
   "metadata": {
    "pycharm": {
     "name": "#%% md\n"
    }
   },
   "source": [
    "##深度优先（DFS）算法和⼴度 优先（BFS）算法\n",
    "\n",
    "    DFS 算法和\n",
    "    算法可以说是师出同⻔，区别仅仅在于根 节点是否被遍历到⽽已。 且 BFS 算法常⻅于求最值的场景，因为 BFS 的算法逻辑保证\n",
    "    了算法第⼀次到达⽬标时的代价是最⼩的。\n",
    "    \n",
    "**回溯算法框架**\n",
    "    \n",
    "    result = []\n",
    "    def backtrack(路径, 选择列表):                    # 选择列表可替换为已使用列表\n",
    "        if 满⾜结束条件:\n",
    "            result.add(路径)\n",
    "            return                                  # 如果只需要一个合法解而非全部解， return True\n",
    "\n",
    "        for 选择 in 选择列表\n",
    "            排除不合法的选择\n",
    "            做选择（选择列表移出（标记）选择， 路径添加选择）  #一定在循环内选择，否则只找到包含首个元素的路径\n",
    "            backtrack(路径, 选择列表)                 # 如果只需要一个合法解, if backtrack(路径, 选择列表): return True \n",
    "            撤销选择（选择列表再加入（取消标记）选择， 路径移出选择）\n",
    "            \n",
    "    \n",
    "    回溯算法是在遍历「树枝」，DFS 算法是在遍历「节点」。不像动态规划存在重叠⼦问题可以优化，回溯算法就是纯暴⼒穷举，复杂度⼀般都很⾼。\n",
    "    解决⼀个回溯问题，实际上就是⼀个决策树的遍历过程，站在回溯树的 ⼀个节点上，你只需要思考 3 个问题： 1、路径：也就是已经做出的选择。 \n",
    "    2、选择列表：也就是你当前可以做的选择。 3、结束条件：也就是到达决策树底层，⽆法再做选择的条件。\n",
    "    写 backtrack 函数时，需要维护⾛过的「路径」和当前可以做的「选择列表」，当触发「结束条件」时， 将「路径」记⼊结果集。\n",
    "    需要的数据可以放在方法参数或者声明全局变量， 参数更具有灵活性。\n",
    "    \n",
    "    排列公式（从 n 个不同元素中拿出 k 个元素）: n!/(n-k)!\n",
    "    组合公式: n!/[k!(n-k)!]\n",
    "    \n",
    "    有些组合问题，先循环 n 个数 (n 个数字，每个数字可选 k 个桶，O(k^n))和先循环 k 个桶 (每个数字有装入或不装入2种选择, O(k*2^n)，\n",
    "    能实现的记录 memo 优化不同，导致复杂度不同。尽量采取少量（选择空间（可选项）小，指数）多次选择（乘法）\n",
    "    排列问题 O(n!)， 组合、子集 O(n × 2^n)\n",
    "    对于排列，组合，子集问题，其本质就是穷举所有解，⽽这些解呈现树形结构，所以记住如下⼦集问题和排列问题的回溯树，合理使⽤回溯算法框架，\n",
    "    稍改代码框架即可把这些问题⼀⽹打尽。\n",
    "    \n",
    "    组合、子集问题通过保证元素之间的相对顺序不变来防⽌出现重复的⼦集。如果把根节点作为第 0 层，将每个节点和根节点之间树枝上的元素作为该\n",
    "    节点的值，那么第 n 层的所有节点就是⼤⼩为 n 的所有⼦集（组合）。对于重复元素，需要先进⾏排序，让相同的元素靠在⼀起，如果发现\n",
    "    nums[i] == nums[i-1]，则跳过。对于可重复使用元素，递归索引参数不必加1，额外添加结束条件。\n",
    "    \n",
    "    排列问题使用 used 数组来标记哪些元素还可以被选择。对于重复元素，需要先进⾏排序，让相同的元素靠在⼀起，如果发现\n",
    "    nums[i] == nums[i-1] && !used[i - 1]) ，则跳过。（保证相同元素在排列中的相对位置保持不变。）标准全排列算法之所以出现重复，是\n",
    "    因为把相同元素形成的排列序列视为不同的序列，但实际上它们应该是 相同的；⽽如果固定相同元素形成的序列顺序，当然就避免了重复。对于相同\n",
    "    元素只有当之前索引的元素全被使用过时才允许使用当前索引的重复元素。保证了相同元素在排列中的相对位置保证固定。对于可重复使用元素，移\n",
    "    除 used 数组即可。\n",
    "    \n",
    "**组合子集框架**\n",
    "    \n",
    "    [1]: 列表元素无重无复选子集\n",
    "    [2]: 列表元素无重无复选组合\n",
    "    [3]: 列表元素可重无复选子集\n",
    "    [4]: 列表元素可重无复选组合目标和\n",
    "    [5]: 列表元素无重可复选组合目标和\n",
    "    def combination_subset(nums: List, [2]k:int, [4][5]t:int):         # 数组 nums, 大小为 k 的子集, 目标和 t\n",
    "        res, track = [], []                                            # track 记录回溯算法的递归路径  \n",
    "        [4][5]track_sum = 0\n",
    "        [1][3]def backtrack(nums, start):\n",
    "        [2]def backtrack(nums, start, k):\n",
    "        [4][5]def backtrack(nums, start, t):\n",
    "            [1][3]res.append(track)                                    # 前序位置，每个节点的值都是⼀个⼦集\n",
    "            [2]if k == len(track): res.append(track[:])                # 遍历到了第 k 层，收集当前节点的值\n",
    "            [4][5] nonlocal track_sum\n",
    "            [4][5]if track_sum == t: res.append(track[:])              # base case，达到⽬标和，找到符合条件的组合\n",
    "            [4][5]if track_sum > t: return                             # base case，超过⽬标和，直接结束\n",
    "            for i in range(start, len(nums)):                          # 回溯算法标准框架, 如果track定长，len(nums) 可以优化剪枝\n",
    "                [3][4]if i > start and nums[i] == nums[i-1]: continue  # 剪枝逻辑，值相同的相邻树枝，只遍历第⼀条\n",
    "                track.append(nums[i])\n",
    "                [4][5]track_sum += nums[i]\n",
    "                [1][3]backtrack(nums, i+1)                             # 通过 start 参数控制树枝的遍历，避免产⽣重复的⼦集\n",
    "                [2]backtrack(nums, i+1, k)\n",
    "                [4][5]backtrack(nums, i+1, t)\n",
    "                [4][5]track_sum -= nums[i]\n",
    "                track.pop()\n",
    "        [4][5]if len(nums) == 0: return res\n",
    "        [3][4]nums.sort()                                              # 先排序，让相同的元素靠在⼀起\n",
    "        [1][3]backtrack(nums, 0)\n",
    "        [2]backtrack(nums, 0, k)\n",
    "        [4][5]backtrack(nums, 0, t)\n",
    "        return res\n",
    "    \n",
    "                \n",
    "**排列框架**\n",
    "    \n",
    "    [1]: 列表元素无重无复选全排列\n",
    "    [2]: 列表元素无重无复选 k 个元素排列\n",
    "    [3]: 列表元素可重无复选排列\n",
    "    [4]: 列表元素无重可复选排列\n",
    "    def permutation(nums: List, [2]k:int):                             # 数组 nums \n",
    "        res, track = [], []                                            # track 记录回溯算法的递归路径\n",
    "        [1][2][3]used = [False]*len(nums)                              # track 中的元素会被标记为 true\n",
    "        [1][3][4]def backtrack(nums):\n",
    "        [2]def backtrack(nums, start):                                     # 第 k 层节点的值就是⼤⼩为 k 的排列\n",
    "            [1][3][4]if len(nums) == len(track): res.append(track[:])     # base case，到达叶⼦节点\n",
    "            [2]if k == len(track): res.append(track) \n",
    "                return\n",
    "            [1][3][4]for i in range(len(nums)):                          # 回溯算法标准框架\n",
    "            [2]for i in range(start, len(nums)):\n",
    "                [1][2][3]if used[i]: continue                          # 已经存在 track 中的元素，不能重复选择\n",
    "                [3]if i > 0 and nums[i]==nums[i-1] and not used[i-1]: continue # 剪枝逻辑，值相同的相邻树枝，只遍历第⼀条\n",
    "                [1][2][3]used[i] = True\n",
    "                track.append(nums[i])\n",
    "                [1][3][4]backtrack(nums)                               # 通过 start 参数控制树枝的遍历，避免产⽣重复的⼦集               \n",
    "                [2]backtrack(nums, start+1)\n",
    "                track.pop()\n",
    "                [1][2][3]used[i] = False\n",
    "        [3]nums.sort()  \n",
    "        [1][3][4]backtrack(nums)\n",
    "        [2]backtrack(nums, k)\n",
    "        return res\n",
    "        \n",
    "    \n",
    "    岛屿问题：遍历列表每个值，遇到岛屿：岛屿数+1，执行 dfs（越界，遇到海返回；把当前索引改成海，dfs遍历邻居）\n",
    "        如果列表外全是陆地，对于 4 条边每个索引执行 dfs 排除靠边的非封闭“岛”。\n",
    "        对于形状相同的岛屿，如果从同⼀起点出发，dfs 函数遍历的顺序肯定是⼀样的。\n",
    "    \n",
    "    leetcode: 46, 51. 112, 113, 140, 17, 22, 39, 698, 77, 78.\n",
    "            698.\n",
    "            216, 39, 40, 46, 47, 77, 78, 90. 17, 491.\n",
    "            1020, 1254, 1905, 200, 694, 695.\n"
   ]
  },
  {
   "cell_type": "markdown",
   "id": "6ac364fa",
   "metadata": {
    "pycharm": {
     "name": "#%% md\n"
    }
   },
   "source": [
    "<div>\n",
    "<img src=\"img/combination_permutation.png\" width=\"800\"/>\n",
    "</div>"
   ]
  },
  {
   "cell_type": "markdown",
   "id": "75522770",
   "metadata": {
    "pycharm": {
     "name": "#%% md\n"
    }
   },
   "source": [
    "**图遍历 BFS 框架**\n",
    "    \n",
    "    [1]单向BFS     [2]双向BFS\n",
    "    def BFS(start, target):\n",
    "        if not start: return 0\n",
    "        visited = set()                            # 避免⾛回头路， 树或者无环图可省略\n",
    "        [1]q = deque()                             # 核⼼数据结构\n",
    "        [1]q.append(start)                         # 将起点加⼊队列\n",
    "        [1]visited.add(start)                         \n",
    "        step = 0                                   # 记录扩散的步数, 数中 depth 根节点初始 1\n",
    "        [2] q1, q2 = set(), set()                  # 双向 BFS 使用散列集判断一侧 BFS 访问节点是否出现在另一侧最外层散列集中\n",
    "        [2] q2.add(target)    \n",
    "        [1]while len(q):\n",
    "        [2]while len(q) and len(q2):  \n",
    "            [1]size = len(q)   \n",
    "            [1]for i in range(size):               # 将当前队列中的所有节点向四周扩散\n",
    "                [1]node = q.popleft()\n",
    "            [2]if len(q) > len(q2):                # 可选优化，选择⼀个较⼩的集合进⾏扩散，减小空间增长\n",
    "                [2]q, q2 = q2, q \n",
    "            [2]temp = set()\n",
    "            [2]for node in q:    \n",
    "                [1]if node == target: return step  # 这⾥判断是否到达终点\n",
    "                [2]if node in q2: return step      # 当前节点是否出现在另一侧最外层散列集中（找到最短路线），返回\n",
    "                [2]visited.add(node)               # 另一种更新 visited 位置\n",
    "                for neighbor in node.neighbors():  # 将 cur 的相邻节点加⼊队列\n",
    "                    if neighbor not in visited:\n",
    "                        [1]q.append(neighbor)\n",
    "                        [1]visited.add(neighbor)\n",
    "                        [2]temp.add(neighbor)\n",
    "            step += 1                              # 更新步数在这⾥\n",
    "            [2]q1, q2 = q2, temp                   # temp 相当于 q1, 这⾥交换 q1 q2，下⼀轮 while 就是扩散 q2\n",
    "        return -1\n",
    "            \n",
    "    BFS 找到的路径（从起点 start 到终点 target）⼀定是最短的，但代价就是空间复杂度（最的底层 O(N/2)）可能⽐ DFS（树深度 O(logN)）\n",
    "    ⼤很多。 BFS 借助队列做到⼀次⼀步「⻬头并进」，不像 DFS 需要遍历整棵树，可以在不遍历完整棵树的条件下找到最短距离的。\n",
    "    BFS 算法还有⼀种稍微⾼级⼀点的优化思路（可选）：双向 BFS，可以 进⼀步提⾼算法的效率（但时间复杂度相同）。传统的 BFS 框架就是从起\n",
    "    点开始向四周扩散，遇到终点时停⽌；⽽双向 BFS 则是从起点和终点同时开始扩散，当两边有交集的时候停⽌。如果我们每次都选择⼀个较⼩的集\n",
    "    合进⾏扩散，那么占⽤的空间增⻓速度就会慢⼀些，效率就会⾼⼀些。双向 BFS 也有局限，因为你必须知道终点在哪⾥。\n",
    "    BFS 算法并不只是⼀个寻路算法，⽽是⼀种暴⼒搜索算法，只要涉及暴⼒穷举的问 题，BFS 就可以⽤，⽽且可以最快地找到答案。关键在于如何\n",
    "    穷举出当前状态（考虑是否可序列化成字符串）下可能衍⽣出的所有状态。\n",
    "    \n",
    "    leetcode: 111, 752. 102, 117, 431, 773, 863.\n",
    "        \n",
    "    "
   ]
  },
  {
   "attachments": {},
   "cell_type": "markdown",
   "id": "8178ae84",
   "metadata": {
    "pycharm": {
     "name": "#%% md\n"
    }
   },
   "source": [
    "# 动态规划\n",
    "\n",
    "    动态规划的底层逻辑也是穷举，只不过动态规划问题具有⼀些特殊的性质，使得穷举的过程中存在可优化的空间。\n",
    "    动态规划的核⼼：「状态」，「选择」，「dp 数组的定义」。\n",
    "    动态规划问题的⼀般形式就是求最值。求解动态规划的核⼼问题是穷举。列出正确的「状态转移⽅程」(通过之前状态推导当前状态)，判断算法问\n",
    "    题是否具备「最优⼦结构」（⼦问题间必须互相独⽴，可以从⼦问题的最优结果推出更⼤规模问题的最优结果）可以改造问题使其满足最优⼦结构。\n",
    "    动态规划问 题存在「重叠⼦问题」，通过⼦问题的最值得到原问题的最值（最简单粗暴的⽅式就是画图，把递归树画出来，看看有没有重复的节\n",
    "    点，或者通过递归框架直接判断是否存在重叠⼦问题（只看状态转移方程，如果从一个状态 a 到另一个状态 b，拥有多条路径，那么状态 a 被\n",
    "    a 到 b 的中间节点使用多次，一定存在重叠⼦问题）。使⽤「备忘录」或者「DP table」来优 化穷举过程。\n",
    "    \n",
    "    明确 base case （别忘记何时无解的 base case） -> 明确「状态」（原问题和⼦问题中会变化的变量，将状态翻译成⾃然语⾔就容易理解\n",
    "    了。注意状态如果是数组，一般考虑数组前 i 个索引作为进行状态遍历）-> 明确「选择」（导致「状态」产⽣变化的⾏为，考虑所有可能性）\n",
    "    -> 定义 「dp 数组/函数的定义」（题目要求计算的量）。对于⾃顶向下的解法的递归 dp 函数，⼀般来说函数的参数就是状态转移中会变化的\n",
    "    量，也就是上⾯说到的「状态」；函数的返回值就是题⽬要求我们计算的量。就本题来说，状态只有⼀个，即「⽬标⾦额」，题⽬要求我们计算\n",
    "    凑出⽬标⾦额所需的最少硬币数量。\n",
    "   \n",
    "    \n",
    "**动态规划框架**\n",
    "    \n",
    "    # ⾃顶向下递归的动态规划\n",
    "\n",
    "    memo[# 状态1][# 状态2][...] = -float(\"-inf\")         # 小心赋值别让后面操作导致溢出，\n",
    "                                                            # 也可设置不会出现的数（是由题⽬给出的数据范围决定的）\n",
    "    def dp(状态1, 状态2, ...):\n",
    "        if 状态1, 状态2, ... == base case: return 0;\n",
    "        if 状态1, 状态2, ... == invalid case: return -1;     # 没必要修改 base case 备忘录值\n",
    "        if memo[index] != -float(\"inf\"): return memo[index] # 如果 DP table 对应索引的值以经存在，直接返回 DP table 的值\n",
    "        for 选择 in 所有可能的选择:      \n",
    "            result = 求最值(result, dp(状态1, 状态2, ...))    # 此时的状态已经因为做了选择⽽改变\n",
    "        memo[状态1][状态2][...] = result\n",
    "        return memo[状态1][状态2][...]\n",
    "    return dp(最终状态)\n",
    "    \n",
    "    # ⾃底向上迭代的动态规划\n",
    "    dp[0][0][...] = -float(\"-inf\")                           # 注意数组大小需要定义 n+1 项\n",
    "    dp[base case] = 0                                        # 初始化 base case，其余索引对应值设为-∞\n",
    "    dp[0][:] = #   dp[:][0] = #                              # 二维可以是第一行和第一列 base case\n",
    "    for 状态1 in 状态1的所有取值：                         # 进⾏状态转移\n",
    "        for 状态2 in 状态2的所有取值：\n",
    "            for ...\n",
    "                dp[状态1][状态2][...] = 求最值(选择1，选择2...)\n",
    "    return dp[最终状态] \n",
    "     \n",
    "    \n",
    "    「⾃顶向下」：从⼀个规模较⼤的原问，向下逐渐分解规模，直到 base case，然后逐层返回答案，进⾏「递归」求解，可使用「备忘录」优化\n",
    "    「⾃底向上」：从最底下、最简单、问题规模最⼩、已知结果的 base case 开始往上推，直到推到我们想要的答案。这就是「递推」的思路，这\n",
    "    也是动态规划⼀般都脱离了递归，⽽是由循环迭代完成计算的原因。使用「DP table」来优化。\n",
    "    动态规划问题最困难的就是写出这个暴⼒解，即状态转移⽅程，⼀是因为很多穷举需要递归实现，⼆是 因为有的问题本身的解空间复杂。如果我们\n",
    "    发现每次状态转移只需要 DP table 中的⼀部分，那么可以尝试缩⼩ DP table 的⼤⼩，只记录必要的数据，从⽽降低空间复杂度。\n",
    "    \n",
    "    base case 返回值是根据 dp 函数的定义所决定的，base case 也可以放在遍历内通过 if 根据状态值判断进行初始化。备忘录的初始值由\n",
    "    题⽬给出的数据范围决定的（设置合法区间值范围外的值）。对于不合法的索引返回值需要根据我们状态转移⽅程的逻辑确定（通过问题求最大、\n",
    "    小，取相反的合法区间外到无穷间取值）。\n",
    "    当函数参数是整数 n 获得结果时， DP table 通常需要定义为 dp = [#] * (n+1) （当 n=0 为 base case）。如果参数本身是数组，则\n",
    "    DP table 通常需要定义为 dp = [#] * n。当 n+1 时注意 for 循环 range 也要 +1，循环内部 索引要 -1\n",
    "    \n",
    "    对于遍历方式是正向（索引从小到大迭代），还是反向，或者斜向，必须满足：遍历的过程中，计算当前状态所需的状态必须是已经计算出来的；\n",
    "    遍历结束后，存储结果的那个位置必须已经被计算出来。主要就是看 base case 和最终结果的存储位置，保证遍历过程中使⽤的数据都是计算完\n",
    "    毕的就⾏。\n",
    "    \n",
    "    「dp 数组/函数的定义」：数组的值通常只会记录一个数，不会记录额外信息。如果有额外信息，考虑是否需要重新定义 dp 数组。像⼦数组、\n",
    "    ⼦序列这类问题，可以尝试定义 dp[i] 是以 nums[i] 为结尾的最⼤⼦数组和/最 ⻓递增⼦序列，因为这样定义更容易将 dp[i+1] 和 dp[i] \n",
    "    建⽴起联系，利⽤数学归纳法写出状态转移⽅程。\n",
    "    \n",
    "    使用数学归纳法来推出「状态转移⽅程」。数学归纳法：先假设这个结论在 k < n 时成⽴，然后根据这个假设，想办法推导证明出 k = n 的时\n",
    "    候此结论也成⽴。假设已经知道了 dp[0..n] 的所有结果，考虑如何通过这些已知结果推出 dp[n+1]\n",
    "    如果⽆法完成「状态转移⽅程」，很可能就是 dp 数组的定义不够恰当，需要重新定义 dp 数组的含义；或者可能是 dp 数组存储的信息还不够，\n",
    "    不⾜以推出下⼀步的答案，需要把 dp 数组扩⼤成⼆维数组甚⾄三维数组。\n",
    "    状态转移⽅程可以由多条逻辑线组合形成。可以先写出递归暴力解，再使用备忘录优化。\n",
    "    \n",
    "    状态， 选择多时可以画状态转移图，帮助思考。\n",
    "    \n",
    "    学会转换问题。如把数组分成两组和相等的子数组，可以转换为背包问题：找到和为总和一半的子数组。\n",
    "    当对背包问题 dp 数组降维时， 如果元素不能重复使用，内层数组和需要从大到小反向遍历。因为每个物品（或者说数字）只能⽤⼀次，以免之前\n",
    "    的结果影响其他的结果。如果元素能多次使用，则从小到大遍历。\n",
    "    \n",
    "    \n",
    "    动态规划解题步骤（存在自上向下递归方法和自底向上遍历方法）：1. 分析状态变量有哪些（在问题分解（状态转移）的过程中变化的，就是状\n",
    "    态。对于任意状态必须能用状态变量进行描述）2. 确认子问题互相独立（如果不是，考虑重新定义状态，或者不适合动态规划），对于所有基础状\n",
    "    态（如果状态较多可以画出状态转移图），明确所有可做出的选择，写出对应的所有状态转移方程（当前状态的值由子问题状态组合而成，如果写\n",
    "    不出考虑是否需要重新定义状态变量）3. 明确 base case（起始的状态， 往往填补之后遍历中出现越界的情况）。自上向下时可以提取通过 if \n",
    "    条件，如果索引越界返回正/负无穷；自底向上时则需要提取计算 dp 索引越界时的值。4. 自底向上遍历时，根据 base case 和状态转移\n",
    "    方程索引左右两边依赖关系，推出遍历方向（已知->未知方向）5. 查看是否存在重叠子问题（对于一个状态存在经过多条路径（状态转移方程）\n",
    "    到达另一状态）。如存在，自上向下时，初始 memo 备忘录，计算索引对应值时，如果对应索引不是初始值，则直接返回对应的值。自底向上遍历\n",
    "    则直接调取 dp 对应的值（子问题索引对应的值一定已经计算过了）。6. 如果 dp 数组计算新值时状态转移方程永远只用到临近的一部分（一行\n",
    "    或前几个），则可对 dp 数组进行压缩。\n",
    "    找问题的最好方式就是把dp数组打印出来，看看究竟是不是按照自己思路推导的。做动规的题目，写代码之前一定要把状态转移在dp数组的上具体\n",
    "    情况模拟一遍，心中有数，确定最后推出的是想要的结果。\n",
    "    必须遍历到所有未被初始化的变量情况，但是不能遍历已经初始化的值。\n",
    "    很多 dp 问题可以转化成 dp 求最长公共子序列\n",
    "    \n",
    "    \n",
    "**背包问题框架**  \n",
    "    \n",
    "    很多题是 0,1 背包变形，转化考虑分成两堆（一堆重量等于总重//2，能否通过前i 个物品凑出最大重量（价值等于重量情况）接近、等于总重//2）\n",
    "    完全背包如果求组合数就是外层for循环遍历物品，内层for遍历背包。如果求排列数就是外层for遍历背包，内层for循环遍历物品。\n",
    "    [1]不可以重复使用元素 （0,1 背包）    [2]可以重复使用元素 (完全背包)\n",
    "    dp = [[0]*(n+1) for i in len(amount+1)]     \n",
    "    for i in range(n+1): dp[i][0] = 0                                      # base case 对于可以使用前 i 个物品，重量为0，则价值也为0\n",
    "    for j in range(amount+1): dp[0][j] = 0                                 # base case 对于可以使用任意重量，但不可以使用物品，则价值也为0\n",
    "\n",
    "    for i in range(1, n+1):                                                # 也可以先遍历重量\n",
    "        for j in range(1, amount+1):\n",
    "            if j - weight[i - 1] >= 0:                                       # 可以装⼊背包\n",
    "                [1]dp[i][j] = max(dp[i - 1][j], dp[i - 1][j - weight[i - 1]] + value[i])\n",
    "                [2]dp[i][j] = max(dp[i - 1][j] + dp[i][j - weight[i - 1]] + value[i])    \n",
    "            else:\n",
    "                dp[i][j] = dp[i - 1][j]                                    # 背包容量不⾜，不能装⼊第 i 个物品\n",
    "     return dp[n][amount]\n",
    "     \n",
    "     \n",
    "     # 压缩 dp 数组后\n",
    "     dp[0] = 0\n",
    "     for i in range(n):                                                    # 降维后数组索引左移1， [1]不能先倒序遍历重量,再遍历物品否则结果只遍历了最后一列\n",
    "         [1]for j in range(amount, -1, -1):                                # 不可重复使用元素时，需要反向遍历,右下角的值依赖上一层左上角的值\n",
    "         [2]for j in range(1, amount+1):                                   # [2] 可以先遍历重量再遍历物品，此时根据转移方程（dp[i]+=dp[i - weight[j]]）\n",
    "             if j - weight[i] >= 0:                                           # 可能是排列的结果，而先遍历物品再遍历重量则是组合结果\n",
    "                 dp[j] = max(dp[j], dp[j - weight[i]] + value[i])\n",
    "     return dp[sum]\n",
    "     \n",
    " \n",
    "**股票问题框架**\n",
    "\n",
    "    base case：\n",
    "    dp[-1][...][0] = dp[...][0][0] = 0           # i = -1 意味着还没有开始，这时候的利润当然是 0。\n",
    "    dp[-1][...][1] = dp[...][0][1] = -inf        # 没开始/不允许交易时不可能有股票的。因为算法求最⼤值，所以初始值设为最⼩值。\n",
    "    状态转移⽅程：\n",
    "    dp[i][k][0] = max(dp[i-1][k][0], dp[i-1][k][1] + prices[i])     \n",
    "    dp[i][k][1] = max(dp[i-1][k][1], dp[i-1][k-1][0] - prices[i]) # 卖出买入至少间隔1天：dp[i-2][k-1][0] - prices[i]\n",
    "                                                                    # 只能单次交易 dp[i][k][1] = max(dp[i-1][k][1], -prices[i])\n",
    "    base case: i-1 == -1 (i=0)时：dp[i][k][0] = max(dp[-1][k][0], dp[-1][k][1] + prices[i]) = 0\n",
    "            i=0 时： dp[i][k][1] = max(dp[-1][k][1], dp[-1][k-1][0] - prices[i])=max(-inf,0-prices[i])=-prices[i]\n",
    "         base case： 即 dp 数组索引不合法时的对应 i 的值，base case 值通过状态转移⽅程算出。\n",
    "    \n",
    "    # 不限制交易次数，或者只能交易一次时可以忽略 k，并对 dp 数组进行压缩\n",
    "    def stockProfit(max_k, prices, cooldown, fee):    # 最多交易次数， 股票按日期价格列表， 买卖间隔， 交易手续费\n",
    "        n = len(prices)\n",
    "        if n <= 0: return 0\n",
    "        dp = [[[0 for s in range(2)] for k in range(max_k + 1)] for i in range(n)]\n",
    "        \n",
    "        for i in range(n): \n",
    "            dp[i][0][1], dp[i][0][0] = -sys.maxsize, 0              # k = 0 时的 base case\n",
    "        \n",
    "        for i in range(n):\n",
    "            for k in range(1,max_k):\n",
    "                if i - 1 == -1:       \n",
    "                    dp[i][k][0], dp[i][k][1] = 0, -prices[i] - fee                  # base case 1\n",
    "                    continue\n",
    "                if i - cooldown - 1 < 0:                                            # 包含 cooldown 的 base case\n",
    "                    dp[i][k][0] = max(dp[i-1][k][0], dp[i-1][k][1] + prices[i])     # base case 2\n",
    "                    dp[i][k][1] = max(dp[i-1][k][1], -prices[i] - fee)              # 别忘了减 fee\n",
    "                    continue\n",
    "                dp[i][k][0] = max(dp[i-1][k][0], dp[i-1][k][1] + prices[i])\n",
    "                dp[i][k][1] = max(dp[i-1][k][1], dp[i-cooldown-1][k-1][0]- prices[i] - fee) # 考虑cooldown和fee\n",
    "        return dp[n - 1][max_k][0]\n",
    "   \n",
    "    \n",
    "    \n",
    "    leetcode: 322, 509. 112, 115, 139, 1696, 221, 240, 256, 62, 63, 70, 91.\n",
    "        931. 63.\n",
    "        . 115, 139, 221, 256, 63, 91.\n",
    "        300, 354. 1425, 256.\n",
    "        53. 256.\n",
    "        72. 97.\n",
    "        1143, 583, 712.\n",
    "        10.\n",
    "        518.\n",
    "        416.\n",
    "        121, 122, 123, 188, 309, 714.\n",
    "        486, 877.\n",
    "        64.\n",
    "        514."
   ]
  },
  {
   "cell_type": "markdown",
   "id": "757e57fa",
   "metadata": {
    "pycharm": {
     "name": "#%% md\n"
    }
   },
   "source": [
    "# 时空复杂度分析\n",
    "    \n",
    "    Big O 数学定义：O(g(n)) = { f(n): 存在正常量 c 和 n_0，使得对所有 n ≥ n_0，有 0 ≤ f(n) ≤ c*g(n) }\n",
    "    一个算法的复杂度，就是描述该算法的复杂度的函数属于这个 O(g(n)) 代表的函数集合之中。\n",
    "    特性：只保留增⻓速率最快的项，其他的项可以省略。Big O 记号表示复杂度的「上界」（按最坏情况近似处理）\n",
    "    在算法领域，除了⽤ Big O 表示渐进上界，还有渐进下界、渐进紧确界等边界的表示⽅法。\n",
    "    ⾮递归算法的空间复杂度⼀般很容易计算，你看它有没有申请数组之类的存储空间就⾏了。\n",
    "    \n",
    "    \n",
    "    "
   ]
  },
  {
   "cell_type": "markdown",
   "id": "21db2116",
   "metadata": {
    "pycharm": {
     "name": "#%% md\n"
    }
   },
   "source": [
    "# 其他算法"
   ]
  },
  {
   "cell_type": "markdown",
   "id": "065e97d4",
   "metadata": {
    "pycharm": {
     "name": "#%% md\n"
    }
   },
   "source": [
    "## 随机算法\n",
    "\n",
    "    随机算法需求：从若干元素中随机选择 k 个元素，如何解决重复抽取的问题。\n",
    "    \n",
    "    洗牌算法：随机选择 n 个数转换为随机打乱原数组（遍历所有索引，对于每个索引 i，随机生成一个比索引 i 大的索引，并交换两索引对应的\n",
    "    值），并抽取前 n个数。产生的可能结果有 n！种验证正确性。局限性：只能应用于数组，链表不行。复杂度 O(n)\n",
    "    \n",
    "    ⽔塘抽样算法：当你遇到第 i 个元素时，应该有 1/i 的概率选择该元素，1 - 1/i 的概率保持原有的选择。初始选择前 k 个元素作为随机结果数\n",
    "    组， 从第 k+1 个元素开始遍历所有元素，对于第 i 个元素：随机生成一个 0 到 i 之间的数 j，如果小于 k， 则选取该元素代替随机结果数组\n",
    "    第 j 个元素。复杂度 O(n)\n",
    "    \n",
    "    蒙特卡洛验证法：大量采样，参考各个元素被抽取的次数获得其概率。\n",
    "    \n",
    "    \n",
    "    leetcode: 382, 384, 398. "
   ]
  },
  {
   "attachments": {},
   "cell_type": "markdown",
   "id": "b2cc4a68",
   "metadata": {
    "pycharm": {
     "name": "#%% md\n"
    }
   },
   "source": [
    "## 贪心算法\n",
    "\n",
    "    贪⼼思路的本质，如果找不到重复计算，那就通过问题中⼀些隐藏较深的规律，来减少冗余计算。\n",
    "    刷题或者面试的时候，手动模拟一下感觉可以局部最优推出整体最优，而且想不到反例，那么就试一试贪心。\n",
    "    一般数学证明有如下两种方法：数学归纳法，反证法。\n",
    "    如果仅仅求极值，可以考虑遍历从一侧逐一处理更新元素，而非从极值索引向两侧遍历\n",
    "    区间问题特别容易⽤贪⼼算法\n",
    "    \n",
    "    leetcode: 134, 1024. "
   ]
  },
  {
   "cell_type": "markdown",
   "id": "422983bc",
   "metadata": {
    "pycharm": {
     "name": "#%% md\n"
    }
   },
   "source": [
    "## 分治算法\n",
    "\n",
    "    不要思考整体，⽽是把⽬光聚焦局部。明确递归函数的定义是什么，相信并且利⽤好函数的定义。考虑一个（或遍历考虑每个）局部把原问题进行分\n",
    "    割，通过函数递归获得分割后子问题的解，再分析利用子问题的解获得原问题的解。不要忘记声明 base case（已经不能再分割）的情况，来结束\n",
    "    递归。\n",
    "    \n",
    "    leetcode: 241. "
   ]
  },
  {
   "cell_type": "code",
   "execution_count": null,
   "id": "7bd0332d",
   "metadata": {
    "pycharm": {
     "name": "#%%\n"
    }
   },
   "outputs": [],
   "source": []
  }
 ],
 "metadata": {
  "kernelspec": {
   "display_name": "Python 3",
   "language": "python",
   "name": "python3"
  },
  "language_info": {
   "codemirror_mode": {
    "name": "ipython",
    "version": 3
   },
   "file_extension": ".py",
   "mimetype": "text/x-python",
   "name": "python",
   "nbconvert_exporter": "python",
   "pygments_lexer": "ipython3",
   "version": "3.10.9 (tags/v3.10.9:1dd9be6, Dec  6 2022, 20:01:21) [MSC v.1934 64 bit (AMD64)]"
  },
  "vscode": {
   "interpreter": {
    "hash": "e5ea5b284b387cf407f411a3436edf59739a2fcbca705f3a00844e9d18bc37be"
   }
  }
 },
 "nbformat": 4,
 "nbformat_minor": 5
}